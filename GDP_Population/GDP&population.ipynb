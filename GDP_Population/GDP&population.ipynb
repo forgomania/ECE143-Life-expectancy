{
 "cells": [
  {
   "cell_type": "code",
   "execution_count": 1,
   "metadata": {},
   "outputs": [],
   "source": [
    "import pandas as pd\n"
   ]
  },
  {
   "cell_type": "code",
   "execution_count": 2,
   "metadata": {},
   "outputs": [],
   "source": [
    "data=pd.read_csv('Life Expectancy Data.csv')"
   ]
  },
  {
   "cell_type": "code",
   "execution_count": 3,
   "metadata": {},
   "outputs": [
    {
     "data": {
      "text/plain": [
       "Index(['Country', 'Year', 'Status', 'Life expectancy ', 'Adult Mortality',\n",
       "       'infant deaths', 'Alcohol', 'percentage expenditure', 'Hepatitis B',\n",
       "       'Measles ', ' BMI ', 'under-five deaths ', 'Polio', 'Total expenditure',\n",
       "       'Diphtheria ', ' HIV/AIDS', 'GDP', 'Population',\n",
       "       ' thinness  1-19 years', ' thinness 5-9 years',\n",
       "       'Income composition of resources', 'Schooling'],\n",
       "      dtype='object')"
      ]
     },
     "execution_count": 3,
     "metadata": {},
     "output_type": "execute_result"
    }
   ],
   "source": [
    "data.columns"
   ]
  },
  {
   "cell_type": "code",
   "execution_count": 4,
   "metadata": {},
   "outputs": [],
   "source": [
    "gdp=pd.read_csv('GDP.csv',error_bad_lines=False,skiprows=4)"
   ]
  },
  {
   "cell_type": "code",
   "execution_count": 5,
   "metadata": {},
   "outputs": [],
   "source": [
    "population=pd.read_csv('Population.csv',skiprows=4)"
   ]
  },
  {
   "cell_type": "code",
   "execution_count": 6,
   "metadata": {},
   "outputs": [],
   "source": [
    "#17 for population\n",
    "#16 for GDP\n"
   ]
  },
  {
   "cell_type": "code",
   "execution_count": 7,
   "metadata": {},
   "outputs": [
    {
     "name": "stdout",
     "output_type": "stream",
     "text": [
      "2015 Côte d'Ivoire\n",
      "2014 Côte d'Ivoire\n",
      "2013 Côte d'Ivoire\n",
      "2012 Côte d'Ivoire\n",
      "2011 Côte d'Ivoire\n",
      "2010 Côte d'Ivoire\n",
      "2009 Côte d'Ivoire\n",
      "2008 Côte d'Ivoire\n",
      "2007 Côte d'Ivoire\n",
      "2006 Côte d'Ivoire\n",
      "2005 Côte d'Ivoire\n",
      "2004 Côte d'Ivoire\n",
      "2003 Côte d'Ivoire\n",
      "2002 Côte d'Ivoire\n",
      "2001 Côte d'Ivoire\n",
      "2000 Côte d'Ivoire\n",
      "2015 Congo\n",
      "2014 Congo\n",
      "2013 Congo\n",
      "2012 Congo\n",
      "2011 Congo\n",
      "2010 Congo\n",
      "2009 Congo\n",
      "2008 Congo\n",
      "2007 Congo\n",
      "2006 Congo\n",
      "2005 Congo\n",
      "2004 Congo\n",
      "2003 Congo\n",
      "2002 Congo\n",
      "2001 Congo\n",
      "2000 Congo\n",
      "2013 Cook Islands\n",
      "2015 Czechia\n",
      "2014 Czechia\n",
      "2013 Czechia\n",
      "2012 Czechia\n",
      "2011 Czechia\n",
      "2010 Czechia\n",
      "2009 Czechia\n",
      "2008 Czechia\n",
      "2007 Czechia\n",
      "2006 Czechia\n",
      "2005 Czechia\n",
      "2004 Czechia\n",
      "2003 Czechia\n",
      "2002 Czechia\n",
      "2001 Czechia\n",
      "2000 Czechia\n",
      "2015 Democratic Republic of the Congo\n",
      "2014 Democratic Republic of the Congo\n",
      "2013 Democratic Republic of the Congo\n",
      "2012 Democratic Republic of the Congo\n",
      "2011 Democratic Republic of the Congo\n",
      "2010 Democratic Republic of the Congo\n",
      "2009 Democratic Republic of the Congo\n",
      "2008 Democratic Republic of the Congo\n",
      "2007 Democratic Republic of the Congo\n",
      "2006 Democratic Republic of the Congo\n",
      "2005 Democratic Republic of the Congo\n",
      "2004 Democratic Republic of the Congo\n",
      "2003 Democratic Republic of the Congo\n",
      "2002 Democratic Republic of the Congo\n",
      "2001 Democratic Republic of the Congo\n",
      "2000 Democratic Republic of the Congo\n",
      "2015 Kyrgyzstan\n",
      "2014 Kyrgyzstan\n",
      "2013 Kyrgyzstan\n",
      "2012 Kyrgyzstan\n",
      "2011 Kyrgyzstan\n",
      "2010 Kyrgyzstan\n",
      "2009 Kyrgyzstan\n",
      "2008 Kyrgyzstan\n",
      "2007 Kyrgyzstan\n",
      "2006 Kyrgyzstan\n",
      "2005 Kyrgyzstan\n",
      "2004 Kyrgyzstan\n",
      "2003 Kyrgyzstan\n",
      "2002 Kyrgyzstan\n",
      "2001 Kyrgyzstan\n",
      "2000 Kyrgyzstan\n",
      "2013 Niue\n",
      "2013 Saint Kitts and Nevis\n",
      "2015 Saint Vincent and the Grenadines\n",
      "2014 Saint Vincent and the Grenadines\n",
      "2013 Saint Vincent and the Grenadines\n",
      "2012 Saint Vincent and the Grenadines\n",
      "2011 Saint Vincent and the Grenadines\n",
      "2010 Saint Vincent and the Grenadines\n",
      "2009 Saint Vincent and the Grenadines\n",
      "2008 Saint Vincent and the Grenadines\n",
      "2007 Saint Vincent and the Grenadines\n",
      "2006 Saint Vincent and the Grenadines\n",
      "2005 Saint Vincent and the Grenadines\n",
      "2004 Saint Vincent and the Grenadines\n",
      "2003 Saint Vincent and the Grenadines\n",
      "2002 Saint Vincent and the Grenadines\n",
      "2001 Saint Vincent and the Grenadines\n",
      "2000 Saint Vincent and the Grenadines\n",
      "2015 Swaziland\n",
      "2014 Swaziland\n",
      "2013 Swaziland\n",
      "2012 Swaziland\n",
      "2011 Swaziland\n",
      "2010 Swaziland\n",
      "2009 Swaziland\n",
      "2008 Swaziland\n",
      "2007 Swaziland\n",
      "2006 Swaziland\n",
      "2005 Swaziland\n",
      "2004 Swaziland\n",
      "2003 Swaziland\n",
      "2002 Swaziland\n",
      "2001 Swaziland\n",
      "2000 Swaziland\n"
     ]
    }
   ],
   "source": [
    "for i in range(len(data)):\n",
    "    \n",
    "    country=data.iloc[i,0]\n",
    "    year=str(data.iloc[i,1])\n",
    "    pop=population[population['Country Name']==country][year]\n",
    "    G_DP=gdp[gdp['Country Name']==country][year]\n",
    "    #print(float(pop))\n",
    "    try:\n",
    "        data.iloc[i,17]=float(pop)\n",
    "        data.iloc[i,16]=float(G_DP)\n",
    "    except:\n",
    "        #few countries unable to match, show here\n",
    "        print(year,country)"
   ]
  },
  {
   "cell_type": "code",
   "execution_count": 8,
   "metadata": {},
   "outputs": [],
   "source": [
    "data.to_csv('filled.csv')"
   ]
  }
 ],
 "metadata": {
  "kernelspec": {
   "display_name": "Python 3",
   "language": "python",
   "name": "python3"
  },
  "language_info": {
   "codemirror_mode": {
    "name": "ipython",
    "version": 3
   },
   "file_extension": ".py",
   "mimetype": "text/x-python",
   "name": "python",
   "nbconvert_exporter": "python",
   "pygments_lexer": "ipython3",
   "version": "3.6.5"
  }
 },
 "nbformat": 4,
 "nbformat_minor": 2
}
