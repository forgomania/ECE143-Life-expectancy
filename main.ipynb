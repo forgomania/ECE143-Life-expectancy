{
 "cells": [
  {
   "cell_type": "markdown",
   "metadata": {},
   "source": [
    "# A) Data Cleaning"
   ]
  },
  {
   "cell_type": "code",
   "execution_count": null,
   "metadata": {
    "collapsed": true,
    "scrolled": true
   },
   "outputs": [],
   "source": [
    "from Project.Data_Cleaning import clean_data\n",
    "from Project.GDP_Pop_Extraction.extraction import extract_data\n",
    "\n",
    "df = extract_data()\n",
    "\n",
    "#This operation takes about 1.5 minutes on an average laptop, the modified dataset\n",
    "#can be read from the main directory if we are not focusing on this part\n",
    "data = clean_data.CleanData(df) # Use cd.CleanData(log_level = 0) to see logging messages\n",
    "#The main source of the wait time is __decimal_fix in the init function\n",
    "modified = data.modified\n",
    "NaN = data.NaN\n",
    "NoNaN = data.NoNaN\n",
    "feature_tables = data.feature_tables\n",
    "\n",
    "#To create csvs from the results of data cleaning\n",
    "#data.create_csvs()"
   ]
  },
  {
   "cell_type": "code",
   "execution_count": null,
   "metadata": {
    "collapsed": true
   },
   "outputs": [],
   "source": [
    "# A sample slice of the dataset\n",
    "#To bypass the wait time above, comment the upper part, uncomment the lines below\n",
    "#****WARNING***** The PCA and map_display functions requires the CleanData object above\n",
    "import pandas as pd\n",
    "modified = pd.read_csv('output/modified.csv')\n",
    "modified = modified.drop('Unnamed: 0',axis = 1)"
   ]
  },
  {
   "cell_type": "code",
   "execution_count": null,
   "metadata": {},
   "outputs": [],
   "source": [
    "print('\\nBelow there is a sample from the modified dataset')\n",
    "modified"
   ]
  },
  {
   "cell_type": "markdown",
   "metadata": {},
   "source": [
    "# B) Principal Component Analysis"
   ]
  },
  {
   "cell_type": "code",
   "execution_count": null,
   "metadata": {},
   "outputs": [],
   "source": [
    "from Project.PCA import pca_analysis\n",
    "\n",
    "result_pca = pca_analysis.PCA_Analysis(data)\n",
    "\n",
    "eig_vals = result_pca.eig_vals\n",
    "Nmin = pca_analysis.calnum(eig_vals)\n",
    "print(f'Minimum number of eigen values for the subsace to provide enough (85%) information: {Nmin}\\n')\n",
    "\n",
    "x = result_pca.x\n",
    "finalDf = result_pca.finalDf\n",
    "features = result_pca.features\n",
    "\n",
    "pcoef, finalcomp = pca_analysis.calcoefficient(x,finalDf,features)\n",
    "\n",
    "print('The 5 different feature combinations obtained from PCA are shown below.')\n",
    "print('In each combination there are 4 positive and 4 negative components.\\n')\n",
    "for index,i in enumerate(finalcomp):\n",
    "    print(f'{index+1} - ', end =\" \")\n",
    "    for j in i:\n",
    "        print(j,end =\", \")\n",
    "    print('')\n",
    "    \n",
    "print('\\nWe will use these results to determine the most relevant features.')"
   ]
  },
  {
   "cell_type": "markdown",
   "metadata": {},
   "source": [
    "# C) Pre Visualization"
   ]
  },
  {
   "cell_type": "code",
   "execution_count": null,
   "metadata": {},
   "outputs": [],
   "source": [
    "from Project.Map_Display import map_display\n",
    "from IPython.display import SVG\n",
    "\n",
    "features = list(modified.copy().columns)\n",
    "features.remove('Country')\n",
    "features.remove('Year')\n",
    "print(features)\n",
    "\n",
    "map_display.displaymap(data,features[1], 2000)"
   ]
  },
  {
   "cell_type": "code",
   "execution_count": null,
   "metadata": {
    "collapsed": true
   },
   "outputs": [],
   "source": [
    "def createBar():\n",
    "    \"\"\"\n",
    "    use matplotlib to create a color bar to show on the map.\n",
    "    Need to paste externally.\n",
    "    \"\"\"\n",
    "    from matplotlib import pyplot as plt\n",
    "    import numpy as np\n",
    "\n",
    "    maxValue=max(modified['Life expectancy '])\n",
    "    minValue=min(modified['Life expectancy '])\n",
    "    n = 10\n",
    "    x = np.linspace(minValue,maxValue,100)\n",
    "    y = np.linspace(minValue,maxValue,100)\n",
    "    X, Y = np.meshgrid(x, y)\n",
    "    plt.imshow(f(X, Y), cmap='RdYlGn', origin='low')\n",
    "    plt.colorbar()\n",
    "     \n",
    "    plt.xticks(())\n",
    "    plt.yticks(())\n",
    "    plt.show()\n",
    "    \n",
    "def f(x, y):\n",
    "    return x"
   ]
  },
  {
   "cell_type": "code",
   "execution_count": null,
   "metadata": {},
   "outputs": [],
   "source": [
    "map_display.displaymap(data,features[1], 2015)"
   ]
  },
  {
   "cell_type": "code",
   "execution_count": null,
   "metadata": {
    "collapsed": true
   },
   "outputs": [],
   "source": [
    "#map_display.display(data,features[3], 2013)\n",
    "#map_display.display(data,features[4], 2012)"
   ]
  },
  {
   "cell_type": "code",
   "execution_count": null,
   "metadata": {},
   "outputs": [],
   "source": [
    "from Project.Map_Display.analysis_part1 import analysis\n",
    "\n",
    "#The below function prints raw output, which is the first step of our analysis\n",
    "analysis(modified.copy())"
   ]
  },
  {
   "cell_type": "code",
   "execution_count": null,
   "metadata": {},
   "outputs": [],
   "source": [
    "from Project.Map_Display.analysis_part1 import sortdata\n",
    "from Project.Map_Display.analysis_part1 import showScatter\n",
    "from Project.Map_Display.analysis_part1 import showBar_alt\n",
    "import altair as alt\n",
    "alt.renderers.enable('notebook')"
   ]
  },
  {
   "cell_type": "markdown",
   "metadata": {},
   "source": [
    "# D) Visualization Part 1 (Differences between countries)"
   ]
  },
  {
   "cell_type": "code",
   "execution_count": null,
   "metadata": {
    "collapsed": true
   },
   "outputs": [],
   "source": [
    "#below shows the plots we present for countries with best and worst life expectancy.\n",
    "showScatter(modified.copy(),'GDP',' BMI ',height=400,width=400,year=2015,title=\"GDP vs Life expectancy\")"
   ]
  },
  {
   "cell_type": "code",
   "execution_count": null,
   "metadata": {},
   "outputs": [],
   "source": [
    "#plot the comparison of life expectancy between top10 and bottom 10 countries in 2000. \n",
    "showBar_alt(modified.copy(),height=600,width=600,title='Countries with highest and lowest life expectancy')"
   ]
  },
  {
   "cell_type": "code",
   "execution_count": null,
   "metadata": {},
   "outputs": [],
   "source": [
    "#plot Diphtheria, Polio and life expectancy\n",
    "showScatter(modified.copy(),'Hepatitis B','Polio',nums=20,year=2015,height=400,width=400)"
   ]
  },
  {
   "cell_type": "code",
   "execution_count": null,
   "metadata": {},
   "outputs": [],
   "source": [
    "#plot infant death, adult mortality and life expectancy\n",
    "showScatter(modified.copy(),'infant deaths','Adult Mortality',nums=20,year=2015)\n",
    "# The adult mortality rate shown in the World Development Indicators (WDI) \n",
    "# database and related products refers to the probability that those who have reached age \n",
    "# 15 will die before reaching age 60 (shown per 1,000 persons).\n",
    "\n",
    "#Infant deaths means the probability that those who die before 12month, per 1,000 persons. From WHO"
   ]
  },
  {
   "cell_type": "code",
   "execution_count": null,
   "metadata": {
    "scrolled": true
   },
   "outputs": [],
   "source": [
    "#plot GDP/capita and BMI for all countries\n",
    "modified_temp = modified.copy()\n",
    "alt.Chart(modified_temp[modified_temp['Year']==2015]).mark_circle().encode(\n",
    "    alt.X(' BMI ', scale=alt.Scale(zero=False)),\n",
    "    alt.Y('Life expectancy ', scale=alt.Scale(zero=False, padding=1)),\n",
    "    #color='Country',\n",
    "    size='GDP'\n",
    ").properties(\n",
    "    height=600,\n",
    "    width=800\n",
    ")"
   ]
  },
  {
   "cell_type": "markdown",
   "metadata": {},
   "source": [
    "# E) Visualization Part 2 (Most relevant features)"
   ]
  },
  {
   "cell_type": "code",
   "execution_count": null,
   "metadata": {},
   "outputs": [],
   "source": [
    "from Project.Relevance_Analysis import integrate_relevance\n",
    "from Project.Relevance_Analysis import integrate_year\n",
    "from Project.Relevance_Analysis import rate_highlight\n",
    "from Project.Relevance_Analysis import wordcloud\n",
    "\n",
    "#Modified should be already defined above"
   ]
  },
  {
   "cell_type": "code",
   "execution_count": null,
   "metadata": {
    "collapsed": true
   },
   "outputs": [],
   "source": [
    "integrate_year.visual_allfeaturechaning(modified.copy())"
   ]
  },
  {
   "cell_type": "code",
   "execution_count": null,
   "metadata": {
    "collapsed": true
   },
   "outputs": [],
   "source": [
    "rate_highlight.visual_highlightrate(modified.copy())"
   ]
  },
  {
   "cell_type": "code",
   "execution_count": null,
   "metadata": {
    "collapsed": true
   },
   "outputs": [],
   "source": [
    "#TODO integrate relevance\n"
   ]
  },
  {
   "cell_type": "code",
   "execution_count": null,
   "metadata": {
    "collapsed": true
   },
   "outputs": [],
   "source": [
    "text = 'GDP,HIV,Population, Schooling, Mortality,infant,Alcohol,expenditure%,Measles,BMI,15belowdeaths,Polio,ExpenditureTotal,Diphtheria,IncomeResources,GDP,YoungThinness'\n",
    "\n",
    "wordcloud.visual_wordcloud(text)"
   ]
  },
  {
   "cell_type": "markdown",
   "metadata": {},
   "source": [
    "# F) Visualization Part 3 (Change through the years)"
   ]
  },
  {
   "cell_type": "code",
   "execution_count": null,
   "metadata": {
    "collapsed": true
   },
   "outputs": [],
   "source": [
    "from Project.Change_Analysis import change_analysis\n",
    "\n",
    "# Generates the necessary graphs for the 3rd part of our Visualization\n",
    "change_analysis.generate_results(modified.copy())"
   ]
  }
 ],
 "metadata": {
  "kernelspec": {
   "display_name": "Python 3",
   "language": "python",
   "name": "python3"
  },
  "language_info": {
   "codemirror_mode": {
    "name": "ipython",
    "version": 3
   },
   "file_extension": ".py",
   "mimetype": "text/x-python",
   "name": "python",
   "nbconvert_exporter": "python",
   "pygments_lexer": "ipython3",
   "version": "3.6.5"
  }
 },
 "nbformat": 4,
 "nbformat_minor": 2
}
