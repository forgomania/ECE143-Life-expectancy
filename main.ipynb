{
 "cells": [
  {
   "cell_type": "code",
   "execution_count": null,
   "metadata": {
    "scrolled": true
   },
   "outputs": [],
   "source": [
    "from Project.Data_Cleaning import clean_data\n",
    "from Project.GDP_Pop_Extraction.extraction import extract_data\n",
    "\n",
    "df = extract_data()\n",
    "\n",
    "#This operation takes about 1.5 minutes on an average laptop, the modified dataset\n",
    "#can be read from the main directory if we are not focusing on this part\n",
    "data = clean_data.CleanData(df) # Use cd.CleanData(log_level = 0) to see logging messages\n",
    "#The main source of the wait time is __decimal_fix in the init function\n",
    "modified = data.modified\n",
    "NaN = data.NaN\n",
    "NoNaN = data.NoNaN\n",
    "feature_tables = data.feature_tables\n",
    "\n",
    "#To create csvs from the results of data cleaning\n",
    "#data.create_csvs()"
   ]
  },
  {
   "cell_type": "code",
   "execution_count": null,
   "metadata": {},
   "outputs": [],
   "source": [
    "# A sample slice of the dataset\n",
    "#To bypass the wait time above, comment the upper part, uncomment the lines below\n",
    "#****WARNING***** The PCA and map_display functions requires the CleanData object above\n",
    "import pandas as pd\n",
    "modified = pd.read_csv('output/modified.csv')\n",
    "modified = modified.drop('Unnamed: 0',axis = 1)"
   ]
  },
  {
   "cell_type": "code",
   "execution_count": null,
   "metadata": {},
   "outputs": [],
   "source": [
    "print('\\nBelow there is a sample from the modified dataset')\n",
    "modified"
   ]
  },
  {
   "cell_type": "code",
   "execution_count": null,
   "metadata": {},
   "outputs": [],
   "source": [
    "from Project.PCA import pca_analysis\n",
    "\n",
    "result_pca = pca_analysis.PCA_Analysis(data)\n",
    "\n",
    "eig_vals = result_pca.eig_vals\n",
    "Nmin = pca_analysis.calnum(eig_vals)\n",
    "print(f'Minimum number of eigen values for the subsace to provide enough (85%) information: {Nmin}\\n')\n",
    "\n",
    "x = result_pca.x\n",
    "finalDf = result_pca.finalDf\n",
    "features = result_pca.features\n",
    "\n",
    "pcoef, finalcomp = pca_analysis.calcoefficient(x,finalDf,features)\n",
    "\n",
    "\n",
    "print('The 5 different feature combinations obtained from PCA are shown below.')\n",
    "print('In each combination there are 4 positive and 4 negative components.\\n')\n",
    "for index,i in enumerate(finalcomp):\n",
    "    print(f'{index+1} - ', end =\" \")\n",
    "    for j in i:\n",
    "        print(j,end =\", \")\n",
    "    print('')\n",
    "    \n",
    "print('\\nWe will use these results to determine the most relevant features.')"
   ]
  },
  {
   "cell_type": "code",
   "execution_count": null,
   "metadata": {},
   "outputs": [],
   "source": [
    "from Project.Map_Display import map_display\n",
    "from IPython.display import SVG\n",
    "\n",
    "features = list(modified.columns)\n",
    "features.remove('Country')\n",
    "features.remove('Year')\n",
    "print(features)\n",
    "\n",
    "map_display.displaymap(data,features[1], 2000)"
   ]
  },
  {
   "cell_type": "code",
   "execution_count": null,
   "metadata": {},
   "outputs": [],
   "source": [
    "map_display.displaymap(data,features[1], 2015)"
   ]
  },
  {
   "cell_type": "code",
   "execution_count": null,
   "metadata": {},
   "outputs": [],
   "source": [
    "#map_display.display(data,features[3], 2013)\n",
    "#map_display.display(data,features[4], 2012)"
   ]
  },
  {
   "cell_type": "code",
   "execution_count": null,
   "metadata": {},
   "outputs": [],
   "source": [
    "from Project.Map_Display.analysis_part1 import analysis\n",
    "\n",
    "#The below function prints raw output, which is the first step of our analysis\n",
    "analysis(modified)"
   ]
  },
  {
   "cell_type": "code",
   "execution_count": null,
   "metadata": {},
   "outputs": [],
   "source": []
  },
  {
   "cell_type": "code",
   "execution_count": null,
   "metadata": {},
   "outputs": [],
   "source": []
  }
 ],
 "metadata": {
  "kernelspec": {
   "display_name": "Python 3",
   "language": "python",
   "name": "python3"
  },
  "language_info": {
   "codemirror_mode": {
    "name": "ipython",
    "version": 3
   },
   "file_extension": ".py",
   "mimetype": "text/x-python",
   "name": "python",
   "nbconvert_exporter": "python",
   "pygments_lexer": "ipython3",
   "version": "3.7.0"
  }
 },
 "nbformat": 4,
 "nbformat_minor": 2
}
